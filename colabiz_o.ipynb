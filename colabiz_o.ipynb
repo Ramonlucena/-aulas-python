{
  "nbformat": 4,
  "nbformat_minor": 0,
  "metadata": {
    "colab": {
      "provenance": [],
      "authorship_tag": "ABX9TyPG027NxRDnZVGJ/VXT0ou3",
      "include_colab_link": true
    },
    "kernelspec": {
      "name": "python3",
      "display_name": "Python 3"
    },
    "language_info": {
      "name": "python"
    }
  },
  "cells": [
    {
      "cell_type": "markdown",
      "metadata": {
        "id": "view-in-github",
        "colab_type": "text"
      },
      "source": [
        "<a href=\"https://colab.research.google.com/github/Ramonlucena/-aulas-python/blob/main/colabiz_o.ipynb\" target=\"_parent\"><img src=\"https://colab.research.google.com/assets/colab-badge.svg\" alt=\"Open In Colab\"/></a>"
      ]
    },
    {
      "cell_type": "code",
      "source": [
        "# primeiro comando\n",
        "print('boa noite')"
      ],
      "metadata": {
        "colab": {
          "base_uri": "https://localhost:8080/"
        },
        "id": "VkZdpDxX-RS3",
        "outputId": "d666f795-280b-4c59-aa89-7d28664235a2"
      },
      "execution_count": null,
      "outputs": [
        {
          "output_type": "stream",
          "name": "stdout",
          "text": [
            "boa noite\n"
          ]
        }
      ]
    },
    {
      "cell_type": "code",
      "source": [
        "# segundo comando\n",
        "print(10+5)"
      ],
      "metadata": {
        "colab": {
          "base_uri": "https://localhost:8080/"
        },
        "id": "DvvvjV8CAv65",
        "outputId": "bd06a6a6-574c-42c8-ffd3-0de436db6e21"
      },
      "execution_count": null,
      "outputs": [
        {
          "output_type": "stream",
          "name": "stdout",
          "text": [
            "15\n"
          ]
        }
      ]
    },
    {
      "cell_type": "code",
      "source": [
        "# variaveis\n",
        "nome = 'ramon'\n",
        "print('Olá '+nome)"
      ],
      "metadata": {
        "colab": {
          "base_uri": "https://localhost:8080/"
        },
        "id": "QQEmM3WQBw-I",
        "outputId": "dc62eef8-2048-4ff3-cc6b-66956ff394b1"
      },
      "execution_count": null,
      "outputs": [
        {
          "output_type": "stream",
          "name": "stdout",
          "text": [
            "Olá ramon\n"
          ]
        }
      ]
    },
    {
      "cell_type": "code",
      "source": [
        "# variaveis numericas\n",
        "a = 42\n",
        "b = 10\n",
        "print(a+b)\n",
        "print(a/b)\n",
        "print(a*b)"
      ],
      "metadata": {
        "colab": {
          "base_uri": "https://localhost:8080/"
        },
        "id": "aTiFdx2pCf9Y",
        "outputId": "7eff0fe3-9609-4aff-d12c-e582a7dd7b5d"
      },
      "execution_count": null,
      "outputs": [
        {
          "output_type": "stream",
          "name": "stdout",
          "text": [
            "52\n",
            "4.2\n",
            "420\n"
          ]
        }
      ]
    },
    {
      "cell_type": "code",
      "source": [],
      "metadata": {
        "id": "Jx1lYVdICzCs"
      },
      "execution_count": null,
      "outputs": []
    },
    {
      "cell_type": "code",
      "source": [
        "# variaveis numericas part2\n",
        "nota1 = 8\n",
        "nota2 = 7\n",
        "nota3 = 5\n",
        "media = (nota1 + nota2 + nota3)/3\n",
        "print(media)"
      ],
      "metadata": {
        "colab": {
          "base_uri": "https://localhost:8080/"
        },
        "id": "kjynyrixC_MG",
        "outputId": "a8cca1c4-3b55-4758-8ac2-846ffb81983e"
      },
      "execution_count": null,
      "outputs": [
        {
          "output_type": "stream",
          "name": "stdout",
          "text": [
            "6.666666666666667\n"
          ]
        }
      ]
    },
    {
      "cell_type": "code",
      "source": [
        "nome = 'jose' #String\n",
        "preco = 12.5  #float ou double\n",
        "idade = 30    #Inteiro\n",
        "ehMaior = idade > 18 #logica ou bool\n"
      ],
      "metadata": {
        "id": "v-qIwEoOvgt-"
      },
      "execution_count": null,
      "outputs": []
    },
    {
      "cell_type": "code",
      "source": [
        "time = input ('escreva o nome do time: ')\n",
        "print(time)"
      ],
      "metadata": {
        "colab": {
          "base_uri": "https://localhost:8080/"
        },
        "id": "WSdMByUw1M5Q",
        "outputId": "12463e84-7a00-4fba-8a23-b35c66e66746"
      },
      "execution_count": null,
      "outputs": [
        {
          "output_type": "stream",
          "name": "stdout",
          "text": [
            "escreva o nome do time: Flamengo\n",
            "Flamengo\n"
          ]
        }
      ]
    },
    {
      "cell_type": "code",
      "source": [
        "numero = int(input('insira um numero: '))\n",
        "print (numero *2)\n"
      ],
      "metadata": {
        "colab": {
          "base_uri": "https://localhost:8080/"
        },
        "id": "n03NKNF32mXw",
        "outputId": "8ebedf44-91a2-4b29-db30-7345eed6adb0"
      },
      "execution_count": null,
      "outputs": [
        {
          "output_type": "stream",
          "name": "stdout",
          "text": [
            "insira um numero: 20\n",
            "40\n"
          ]
        }
      ]
    },
    {
      "cell_type": "code",
      "source": [
        "numero = int(input('escreva um numero'))\n",
        "print(numero /2)"
      ],
      "metadata": {
        "colab": {
          "base_uri": "https://localhost:8080/"
        },
        "id": "WL4lKNQk55bm",
        "outputId": "01bb2ec0-30a7-4b1c-d2a3-dda51bad0fa2"
      },
      "execution_count": null,
      "outputs": [
        {
          "output_type": "stream",
          "name": "stdout",
          "text": [
            "escreva um numero200\n",
            "100.0\n"
          ]
        }
      ]
    },
    {
      "cell_type": "code",
      "source": [
        "raio = float(input('insira o raio'))\n",
        "circuferencia = 2 * 3.14 * raio\n",
        "print(circuferencia)\n"
      ],
      "metadata": {
        "colab": {
          "base_uri": "https://localhost:8080/"
        },
        "id": "ln1jh2T16rAX",
        "outputId": "64cddbe7-73fa-4d07-eb44-3849afbe3773"
      },
      "execution_count": null,
      "outputs": [
        {
          "output_type": "stream",
          "name": "stdout",
          "text": [
            "insira o raio5\n",
            "31.400000000000002\n"
          ]
        }
      ]
    },
    {
      "cell_type": "code",
      "source": [
        "altura = float(input('Sua altura:'))\n",
        "peso = float(input ('Seu peso:'))\n",
        "print(peso / altura **2)"
      ],
      "metadata": {
        "colab": {
          "base_uri": "https://localhost:8080/"
        },
        "id": "_vDv39MQ82lP",
        "outputId": "79e537d7-7ca8-4b6e-cef5-249e07743be8"
      },
      "execution_count": null,
      "outputs": [
        {
          "output_type": "stream",
          "name": "stdout",
          "text": [
            "Sua altura:1.69\n",
            "Seu peso:89\n",
            "31.161373901474043\n"
          ]
        }
      ]
    },
    {
      "cell_type": "code",
      "source": [
        "\n",
        "celsius = float(input('digite um valor') )\n",
        "print(celsius + 274)"
      ],
      "metadata": {
        "colab": {
          "base_uri": "https://localhost:8080/"
        },
        "id": "A7rIRjjA_JHo",
        "outputId": "a498dd9a-3f66-4fef-d7ad-799c97f143dc"
      },
      "execution_count": null,
      "outputs": [
        {
          "output_type": "stream",
          "name": "stdout",
          "text": [
            "digite um valor30\n",
            "304.0\n"
          ]
        }
      ]
    },
    {
      "cell_type": "code",
      "source": [
        "idade = int( input(' qual sua idade: '))\n",
        "if(idade >= 18):\n",
        "  print('apto ao concurso')\n",
        "else:\n",
        "  print('Não está apto')"
      ],
      "metadata": {
        "colab": {
          "base_uri": "https://localhost:8080/"
        },
        "id": "2L5S0EIUA4O4",
        "outputId": "db21bfb9-ff1c-465c-8cc9-74fd653ddaa5"
      },
      "execution_count": null,
      "outputs": [
        {
          "output_type": "stream",
          "name": "stdout",
          "text": [
            " qual sua idade: 20\n",
            "apto ao concurso\n"
          ]
        }
      ]
    },
    {
      "cell_type": "code",
      "source": [
        "numero = float(input('Digite um numero:'))\n",
        "if(numero > 0):\n",
        "  print('positivo')\n",
        "elif(numero < 0):\n",
        "  print('Negativo')\n",
        "else:\n",
        "  print('ZERO')"
      ],
      "metadata": {
        "colab": {
          "base_uri": "https://localhost:8080/"
        },
        "id": "bMknLlKpDsKb",
        "outputId": "0c68c9bd-2af8-4d78-fd3d-d7f722701df7"
      },
      "execution_count": null,
      "outputs": [
        {
          "output_type": "stream",
          "name": "stdout",
          "text": [
            "Digite um numero:0\n",
            "ZERO\n"
          ]
        }
      ]
    },
    {
      "cell_type": "code",
      "source": [
        "numeroa = float(input('numeroa'))\n",
        "numerob = float(input('numerob'))\n",
        "if(numeroa > numerob ):\n",
        "  print('numeroa é maior')\n",
        "elif(numerob > numeroa):\n",
        "  print('numerob é maior')\n",
        "\n",
        "#eryui"
      ],
      "metadata": {
        "colab": {
          "base_uri": "https://localhost:8080/"
        },
        "id": "of1lMC4UFHCA",
        "outputId": "6b1f1b6e-5312-443f-8a59-51bed6d286eb"
      },
      "execution_count": null,
      "outputs": [
        {
          "output_type": "stream",
          "name": "stdout",
          "text": [
            "numeroa44\n",
            "numerob55\n",
            "numerob é maior\n"
          ]
        }
      ]
    },
    {
      "cell_type": "code",
      "source": [
        "# prompt: gamer\n",
        "\n",
        "nome = input('Qual é o seu nome? ')\n",
        "print('Olá, ' + nome + '!')\n",
        "jogo = input('Qual é o seu jogo favorito? ')\n",
        "print('Legal! Eu também gosto de jogar ' + jogo + '.')\n",
        "personagem = input('Qual é o seu personagem favorito em ' + jogo + '? ')\n",
        "print('Eu gosto muito do ' + personagem + ' também!')\n"
      ],
      "metadata": {
        "colab": {
          "base_uri": "https://localhost:8080/"
        },
        "id": "_3b1AMvoNs8u",
        "outputId": "72decdb1-e345-4bb8-acff-19026a77b075"
      },
      "execution_count": null,
      "outputs": [
        {
          "output_type": "stream",
          "name": "stdout",
          "text": [
            "Qual é o seu nome? Ramon vinicius\n",
            "Olá, Ramon vinicius!\n",
            "Qual é o seu jogo favorito? Doom\n",
            "Legal! Eu também gosto de jogar Doom.\n",
            "Qual é o seu personagem favorito em Doom? sei la\n",
            "Eu gosto muito do sei la também!\n"
          ]
        }
      ]
    },
    {
      "cell_type": "code",
      "source": [],
      "metadata": {
        "id": "j5HY4LC2wczV"
      },
      "execution_count": null,
      "outputs": []
    },
    {
      "cell_type": "markdown",
      "source": [
        "------------------------------------------------------------------------------"
      ],
      "metadata": {
        "id": "4eqR97r_wd7L"
      }
    },
    {
      "cell_type": "code",
      "source": [
        "#se for sabado e estiver fazendo sol , então eu vou a praia\n",
        "dia = 'sabado'\n",
        "clima = 'sol'\n",
        "if (dia =='sabado' and clima == 'sol'):\n",
        "  print('vou a praia')\n",
        "else:\n",
        "    print('vou trabalhar')"
      ],
      "metadata": {
        "colab": {
          "base_uri": "https://localhost:8080/"
        },
        "id": "aP_ESx7RwtNZ",
        "outputId": "be06390d-8163-41ee-8bf5-36e310b0a6f9"
      },
      "execution_count": null,
      "outputs": [
        {
          "output_type": "stream",
          "name": "stdout",
          "text": [
            "vou a praia\n"
          ]
        }
      ]
    },
    {
      "cell_type": "code",
      "source": [
        "#em um jogo, um player encontra um bau\n",
        "#se o player tiver uma chave e se colidir com o bau\n",
        "#ele libera um diamante\n",
        "player = 'chave'\n",
        "bau = 'colidir'\n",
        "if (player=='chave' and bau=='colidir'):\n",
        " print('liberou diamante')\n",
        "else:\n",
        "  print('bau trancado')\n"
      ],
      "metadata": {
        "colab": {
          "base_uri": "https://localhost:8080/"
        },
        "id": "c7l_DSvU4Pmc",
        "outputId": "45f09869-2795-4633-9bf9-5c38cf006929"
      },
      "execution_count": null,
      "outputs": [
        {
          "output_type": "stream",
          "name": "stdout",
          "text": [
            "liberou diamante\n"
          ]
        }
      ]
    },
    {
      "cell_type": "code",
      "source": [
        "colidiu = True\n",
        "temChave = True\n",
        "\n",
        "if(colidiu and temChave):\n",
        "  print('Diamante')\n",
        "else:\n",
        "  print('nada acontece')"
      ],
      "metadata": {
        "colab": {
          "base_uri": "https://localhost:8080/"
        },
        "id": "j_0Z6h7w66Xl",
        "outputId": "61157a58-3153-4706-9f88-b9ef1bf0444e"
      },
      "execution_count": null,
      "outputs": [
        {
          "output_type": "stream",
          "name": "stdout",
          "text": [
            "Diamante\n"
          ]
        }
      ]
    },
    {
      "cell_type": "code",
      "source": [
        "##use Input\n",
        "##Recebe 3 notas do aluno\n",
        "##retorna a media\n",
        "## A media para passar é 7\n",
        "##se for repetente e tiver media menor que 7 ja reprova direto\n",
        "##se nao for repetente fica em recuperação\n",
        "\n",
        "\n",
        "Nota1 = float(input('Primeira Nota: '))\n",
        "Nota2 = float(input('Segunda Nota: '))\n",
        "Nota3 = float(input('Terceira Nota: '))\n",
        "Media = (Nota1 + Nota2 + Nota3)/3\n",
        "repetente = True\n",
        "\n",
        "\n",
        "if(Media >=7):\n",
        "  print(\"aprovado, sua media é \",Media)\n",
        "\n",
        "elif(Media <7 and repetente ):\n",
        "  print('Reprovado vai estudar')\n",
        "\n",
        "else:\n",
        "  print(\"Em recuperação\")\n",
        "\n",
        "\n",
        "\n",
        "\n",
        "\n",
        "\n",
        "\n"
      ],
      "metadata": {
        "colab": {
          "base_uri": "https://localhost:8080/"
        },
        "id": "togkMIMp7Uhb",
        "outputId": "f1270fa6-6e98-4786-bd63-8c61157af79e"
      },
      "execution_count": null,
      "outputs": [
        {
          "output_type": "stream",
          "name": "stdout",
          "text": [
            "Primeira Nota: 5\n",
            "Segunda Nota: 6\n",
            "Terceira Nota: 5\n",
            "Reprovado vai estudar\n"
          ]
        }
      ]
    },
    {
      "cell_type": "code",
      "source": [
        "## verifica faixas etarias\n",
        "\n",
        "##criança: ate 12 anos\n",
        "##adolecente: de 13 a 17 anos\n",
        "##Adulto: de 18 a 64 anos\n",
        "##idoso: 65 anos ou mais\n",
        "\n",
        "Idade = int(input('Digite sua idade'))\n",
        "\n",
        "if (Idade >= 65):\n",
        " print('Idoso')\n",
        "elif(Idade >= 18):\n",
        "  print('Adulto')\n",
        "elif(Idade >= 13):\n",
        "  print('Adoleceste')\n",
        "else:\n",
        "  print('Criança')"
      ],
      "metadata": {
        "id": "yaxRAAXl_9xE"
      },
      "execution_count": null,
      "outputs": []
    },
    {
      "cell_type": "code",
      "source": [
        "##exercicio para calcular o imc :\n",
        "## Transforme o calculo  e veja se você está sobre peso.\n",
        "\n",
        "peso = float(input('Qual é o seu peso(em kg)?'))\n",
        "altura = float(input('Qual é a sua altura(em metros)'))\n",
        "\n",
        "imc = peso / (altura **2)\n",
        "\n",
        "if imc < 18.5:\n",
        "  print('Você está abaixo do peso')\n",
        "elif imc >= 18.5 and imc <25:\n",
        "  print(\"Você está com o peso normal\")\n",
        "elif imc >= 25 and imc < 30:\n",
        "  print('Você está com sobrepeso')\n",
        "elif imc >= 30:\n",
        "  print('Você está Obeso')"
      ],
      "metadata": {
        "colab": {
          "base_uri": "https://localhost:8080/",
          "height": 373
        },
        "id": "J1fNtKl8k3s2",
        "outputId": "6db5b227-1f24-4553-be7f-102c7de7afc8"
      },
      "execution_count": null,
      "outputs": [
        {
          "name": "stdout",
          "output_type": "stream",
          "text": [
            "Qual é o seu peso(em kg)?45\n"
          ]
        },
        {
          "output_type": "error",
          "ename": "KeyboardInterrupt",
          "evalue": "Interrupted by user",
          "traceback": [
            "\u001b[0;31m---------------------------------------------------------------------------\u001b[0m",
            "\u001b[0;31mKeyboardInterrupt\u001b[0m                         Traceback (most recent call last)",
            "\u001b[0;32m<ipython-input-6-6f0d798ba674>\u001b[0m in \u001b[0;36m<cell line: 5>\u001b[0;34m()\u001b[0m\n\u001b[1;32m      3\u001b[0m \u001b[0;34m\u001b[0m\u001b[0m\n\u001b[1;32m      4\u001b[0m \u001b[0mpeso\u001b[0m \u001b[0;34m=\u001b[0m \u001b[0mfloat\u001b[0m\u001b[0;34m(\u001b[0m\u001b[0minput\u001b[0m\u001b[0;34m(\u001b[0m\u001b[0;34m'Qual é o seu peso(em kg)?'\u001b[0m\u001b[0;34m)\u001b[0m\u001b[0;34m)\u001b[0m\u001b[0;34m\u001b[0m\u001b[0;34m\u001b[0m\u001b[0m\n\u001b[0;32m----> 5\u001b[0;31m \u001b[0maltura\u001b[0m \u001b[0;34m=\u001b[0m \u001b[0mfloat\u001b[0m\u001b[0;34m(\u001b[0m\u001b[0minput\u001b[0m\u001b[0;34m(\u001b[0m\u001b[0;34m'Qual é a sua altura(em metros)'\u001b[0m\u001b[0;34m)\u001b[0m\u001b[0;34m)\u001b[0m\u001b[0;34m\u001b[0m\u001b[0;34m\u001b[0m\u001b[0m\n\u001b[0m\u001b[1;32m      6\u001b[0m \u001b[0;34m\u001b[0m\u001b[0m\n\u001b[1;32m      7\u001b[0m \u001b[0mimc\u001b[0m \u001b[0;34m=\u001b[0m \u001b[0mpeso\u001b[0m \u001b[0;34m/\u001b[0m \u001b[0;34m(\u001b[0m\u001b[0maltura\u001b[0m \u001b[0;34m**\u001b[0m\u001b[0;36m2\u001b[0m\u001b[0;34m)\u001b[0m\u001b[0;34m\u001b[0m\u001b[0;34m\u001b[0m\u001b[0m\n",
            "\u001b[0;32m/usr/local/lib/python3.10/dist-packages/ipykernel/kernelbase.py\u001b[0m in \u001b[0;36mraw_input\u001b[0;34m(self, prompt)\u001b[0m\n\u001b[1;32m    849\u001b[0m                 \u001b[0;34m\"raw_input was called, but this frontend does not support input requests.\"\u001b[0m\u001b[0;34m\u001b[0m\u001b[0;34m\u001b[0m\u001b[0m\n\u001b[1;32m    850\u001b[0m             )\n\u001b[0;32m--> 851\u001b[0;31m         return self._input_request(str(prompt),\n\u001b[0m\u001b[1;32m    852\u001b[0m             \u001b[0mself\u001b[0m\u001b[0;34m.\u001b[0m\u001b[0m_parent_ident\u001b[0m\u001b[0;34m,\u001b[0m\u001b[0;34m\u001b[0m\u001b[0;34m\u001b[0m\u001b[0m\n\u001b[1;32m    853\u001b[0m             \u001b[0mself\u001b[0m\u001b[0;34m.\u001b[0m\u001b[0m_parent_header\u001b[0m\u001b[0;34m,\u001b[0m\u001b[0;34m\u001b[0m\u001b[0;34m\u001b[0m\u001b[0m\n",
            "\u001b[0;32m/usr/local/lib/python3.10/dist-packages/ipykernel/kernelbase.py\u001b[0m in \u001b[0;36m_input_request\u001b[0;34m(self, prompt, ident, parent, password)\u001b[0m\n\u001b[1;32m    893\u001b[0m             \u001b[0;32mexcept\u001b[0m \u001b[0mKeyboardInterrupt\u001b[0m\u001b[0;34m:\u001b[0m\u001b[0;34m\u001b[0m\u001b[0;34m\u001b[0m\u001b[0m\n\u001b[1;32m    894\u001b[0m                 \u001b[0;31m# re-raise KeyboardInterrupt, to truncate traceback\u001b[0m\u001b[0;34m\u001b[0m\u001b[0;34m\u001b[0m\u001b[0m\n\u001b[0;32m--> 895\u001b[0;31m                 \u001b[0;32mraise\u001b[0m \u001b[0mKeyboardInterrupt\u001b[0m\u001b[0;34m(\u001b[0m\u001b[0;34m\"Interrupted by user\"\u001b[0m\u001b[0;34m)\u001b[0m \u001b[0;32mfrom\u001b[0m \u001b[0;32mNone\u001b[0m\u001b[0;34m\u001b[0m\u001b[0;34m\u001b[0m\u001b[0m\n\u001b[0m\u001b[1;32m    896\u001b[0m             \u001b[0;32mexcept\u001b[0m \u001b[0mException\u001b[0m \u001b[0;32mas\u001b[0m \u001b[0me\u001b[0m\u001b[0;34m:\u001b[0m\u001b[0;34m\u001b[0m\u001b[0;34m\u001b[0m\u001b[0m\n\u001b[1;32m    897\u001b[0m                 \u001b[0mself\u001b[0m\u001b[0;34m.\u001b[0m\u001b[0mlog\u001b[0m\u001b[0;34m.\u001b[0m\u001b[0mwarning\u001b[0m\u001b[0;34m(\u001b[0m\u001b[0;34m\"Invalid Message:\"\u001b[0m\u001b[0;34m,\u001b[0m \u001b[0mexc_info\u001b[0m\u001b[0;34m=\u001b[0m\u001b[0;32mTrue\u001b[0m\u001b[0;34m)\u001b[0m\u001b[0;34m\u001b[0m\u001b[0;34m\u001b[0m\u001b[0m\n",
            "\u001b[0;31mKeyboardInterrupt\u001b[0m: Interrupted by user"
          ]
        }
      ]
    }
  ]
}