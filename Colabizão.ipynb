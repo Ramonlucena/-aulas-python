{
  "nbformat": 4,
  "nbformat_minor": 0,
  "metadata": {
    "colab": {
      "provenance": [],
      "authorship_tag": "ABX9TyOMP6MpXEdMXZz/gBosbzoM",
      "include_colab_link": true
    },
    "kernelspec": {
      "name": "python3",
      "display_name": "Python 3"
    },
    "language_info": {
      "name": "python"
    }
  },
  "cells": [
    {
      "cell_type": "markdown",
      "metadata": {
        "id": "view-in-github",
        "colab_type": "text"
      },
      "source": [
        "<a href=\"https://colab.research.google.com/github/Ramonlucena/-aulas-python/blob/main/Colabiz%C3%A3o.ipynb\" target=\"_parent\"><img src=\"https://colab.research.google.com/assets/colab-badge.svg\" alt=\"Open In Colab\"/></a>"
      ]
    },
    {
      "cell_type": "code",
      "source": [
        "# primeiro comando\n",
        "print('boa noite')"
      ],
      "metadata": {
        "colab": {
          "base_uri": "https://localhost:8080/"
        },
        "id": "VkZdpDxX-RS3",
        "outputId": "d666f795-280b-4c59-aa89-7d28664235a2"
      },
      "execution_count": null,
      "outputs": [
        {
          "output_type": "stream",
          "name": "stdout",
          "text": [
            "boa noite\n"
          ]
        }
      ]
    },
    {
      "cell_type": "code",
      "source": [
        "# segundo comando\n",
        "print(10+5)"
      ],
      "metadata": {
        "colab": {
          "base_uri": "https://localhost:8080/"
        },
        "id": "DvvvjV8CAv65",
        "outputId": "bd06a6a6-574c-42c8-ffd3-0de436db6e21"
      },
      "execution_count": null,
      "outputs": [
        {
          "output_type": "stream",
          "name": "stdout",
          "text": [
            "15\n"
          ]
        }
      ]
    },
    {
      "cell_type": "code",
      "source": [
        "# variaveis\n",
        "nome = 'ramon'\n",
        "print('Olá '+nome)"
      ],
      "metadata": {
        "colab": {
          "base_uri": "https://localhost:8080/"
        },
        "id": "QQEmM3WQBw-I",
        "outputId": "dc62eef8-2048-4ff3-cc6b-66956ff394b1"
      },
      "execution_count": null,
      "outputs": [
        {
          "output_type": "stream",
          "name": "stdout",
          "text": [
            "Olá ramon\n"
          ]
        }
      ]
    },
    {
      "cell_type": "code",
      "source": [
        "# variaveis numericas\n",
        "a = 42\n",
        "b = 10\n",
        "print(a+b)\n",
        "print(a/b)\n",
        "print(a*b)"
      ],
      "metadata": {
        "colab": {
          "base_uri": "https://localhost:8080/"
        },
        "id": "aTiFdx2pCf9Y",
        "outputId": "7eff0fe3-9609-4aff-d12c-e582a7dd7b5d"
      },
      "execution_count": null,
      "outputs": [
        {
          "output_type": "stream",
          "name": "stdout",
          "text": [
            "52\n",
            "4.2\n",
            "420\n"
          ]
        }
      ]
    },
    {
      "cell_type": "code",
      "source": [],
      "metadata": {
        "id": "Jx1lYVdICzCs"
      },
      "execution_count": null,
      "outputs": []
    },
    {
      "cell_type": "code",
      "source": [
        "# variaveis numericas part2\n",
        "nota1 = 8\n",
        "nota2 = 7\n",
        "nota3 = 5\n",
        "media = (nota1 + nota2 + nota3)/3\n",
        "print(media)"
      ],
      "metadata": {
        "colab": {
          "base_uri": "https://localhost:8080/"
        },
        "id": "kjynyrixC_MG",
        "outputId": "a8cca1c4-3b55-4758-8ac2-846ffb81983e"
      },
      "execution_count": null,
      "outputs": [
        {
          "output_type": "stream",
          "name": "stdout",
          "text": [
            "6.666666666666667\n"
          ]
        }
      ]
    },
    {
      "cell_type": "code",
      "source": [
        "nome = 'jose' #String\n",
        "preco = 12.5  #float ou double\n",
        "idade = 30    #Inteiro\n",
        "ehMaior = idade > 18 #logica ou bool\n"
      ],
      "metadata": {
        "id": "v-qIwEoOvgt-"
      },
      "execution_count": 4,
      "outputs": []
    },
    {
      "cell_type": "code",
      "source": [
        "time = input ('escreva o nome do time: ')\n",
        "print(time)"
      ],
      "metadata": {
        "colab": {
          "base_uri": "https://localhost:8080/"
        },
        "id": "WSdMByUw1M5Q",
        "outputId": "12463e84-7a00-4fba-8a23-b35c66e66746"
      },
      "execution_count": 8,
      "outputs": [
        {
          "output_type": "stream",
          "name": "stdout",
          "text": [
            "escreva o nome do time: Flamengo\n",
            "Flamengo\n"
          ]
        }
      ]
    },
    {
      "cell_type": "code",
      "source": [
        "numero = int(input('insira um numero: '))\n",
        "print (numero *2)\n"
      ],
      "metadata": {
        "colab": {
          "base_uri": "https://localhost:8080/"
        },
        "id": "n03NKNF32mXw",
        "outputId": "8ebedf44-91a2-4b29-db30-7345eed6adb0"
      },
      "execution_count": 22,
      "outputs": [
        {
          "output_type": "stream",
          "name": "stdout",
          "text": [
            "insira um numero: 20\n",
            "40\n"
          ]
        }
      ]
    },
    {
      "cell_type": "code",
      "source": [
        "numero = int(input('escreva um numero'))\n",
        "print(numero /2)"
      ],
      "metadata": {
        "colab": {
          "base_uri": "https://localhost:8080/"
        },
        "id": "WL4lKNQk55bm",
        "outputId": "01bb2ec0-30a7-4b1c-d2a3-dda51bad0fa2"
      },
      "execution_count": 30,
      "outputs": [
        {
          "output_type": "stream",
          "name": "stdout",
          "text": [
            "escreva um numero200\n",
            "100.0\n"
          ]
        }
      ]
    },
    {
      "cell_type": "code",
      "source": [
        "raio = float(input('insira o raio'))\n",
        "circuferencia = 2 * 3.14 * raio\n",
        "print(circuferencia)\n"
      ],
      "metadata": {
        "colab": {
          "base_uri": "https://localhost:8080/"
        },
        "id": "ln1jh2T16rAX",
        "outputId": "64cddbe7-73fa-4d07-eb44-3849afbe3773"
      },
      "execution_count": 31,
      "outputs": [
        {
          "output_type": "stream",
          "name": "stdout",
          "text": [
            "insira o raio5\n",
            "31.400000000000002\n"
          ]
        }
      ]
    },
    {
      "cell_type": "code",
      "source": [
        "altura = float(input('Sua altura:'))\n",
        "peso = float(input ('Seu peso:'))\n",
        "print(peso / altura **2)"
      ],
      "metadata": {
        "colab": {
          "base_uri": "https://localhost:8080/"
        },
        "id": "_vDv39MQ82lP",
        "outputId": "79e537d7-7ca8-4b6e-cef5-249e07743be8"
      },
      "execution_count": 41,
      "outputs": [
        {
          "output_type": "stream",
          "name": "stdout",
          "text": [
            "Sua altura:1.69\n",
            "Seu peso:89\n",
            "31.161373901474043\n"
          ]
        }
      ]
    },
    {
      "cell_type": "code",
      "source": [
        "\n",
        "celsius = float(input('digite um valor') )\n",
        "print(celsius + 274)"
      ],
      "metadata": {
        "colab": {
          "base_uri": "https://localhost:8080/"
        },
        "id": "A7rIRjjA_JHo",
        "outputId": "a498dd9a-3f66-4fef-d7ad-799c97f143dc"
      },
      "execution_count": 46,
      "outputs": [
        {
          "output_type": "stream",
          "name": "stdout",
          "text": [
            "digite um valor30\n",
            "304.0\n"
          ]
        }
      ]
    },
    {
      "cell_type": "code",
      "source": [
        "idade = int( input(' qual sua idade: '))\n",
        "if(idade >= 18):\n",
        "  print('apto ao concurso')\n",
        "else:\n",
        "  print('Não está apto')"
      ],
      "metadata": {
        "colab": {
          "base_uri": "https://localhost:8080/"
        },
        "id": "2L5S0EIUA4O4",
        "outputId": "db21bfb9-ff1c-465c-8cc9-74fd653ddaa5"
      },
      "execution_count": 48,
      "outputs": [
        {
          "output_type": "stream",
          "name": "stdout",
          "text": [
            " qual sua idade: 20\n",
            "apto ao concurso\n"
          ]
        }
      ]
    },
    {
      "cell_type": "code",
      "source": [
        "numero = float(input('Digite um numero:'))\n",
        "if(numero > 0):\n",
        "  print('positivo')\n",
        "elif(numero < 0):\n",
        "  print('Negativo')\n",
        "else:\n",
        "  print('ZERO')"
      ],
      "metadata": {
        "colab": {
          "base_uri": "https://localhost:8080/"
        },
        "id": "bMknLlKpDsKb",
        "outputId": "0c68c9bd-2af8-4d78-fd3d-d7f722701df7"
      },
      "execution_count": 58,
      "outputs": [
        {
          "output_type": "stream",
          "name": "stdout",
          "text": [
            "Digite um numero:0\n",
            "ZERO\n"
          ]
        }
      ]
    },
    {
      "cell_type": "code",
      "source": [
        "numeroa = float(input('numeroa'))\n",
        "numerob = float(input('numerob'))\n",
        "if(numeroa > numerob ):\n",
        "  print('numeroa é maior')\n",
        "elif(numerob > numeroa):\n",
        "  print('numerob é maior')\n",
        "\n",
        "#eryui"
      ],
      "metadata": {
        "colab": {
          "base_uri": "https://localhost:8080/"
        },
        "id": "of1lMC4UFHCA",
        "outputId": "6b1f1b6e-5312-443f-8a59-51bed6d286eb"
      },
      "execution_count": 67,
      "outputs": [
        {
          "output_type": "stream",
          "name": "stdout",
          "text": [
            "numeroa44\n",
            "numerob55\n",
            "numerob é maior\n"
          ]
        }
      ]
    }
  ]
}